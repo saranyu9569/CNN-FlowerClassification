{
  "cells": [
    {
      "cell_type": "code",
      "execution_count": null,
      "metadata": {
        "id": "QGDxoxgmUr8W"
      },
      "outputs": [],
      "source": [
        "import os\n",
        "import numpy as np\n",
        "import matplotlib.pyplot as plt\n",
        "import seaborn as sns\n",
        "import cv2\n",
        "import tensorflow as tf\n",
        "from tensorflow.keras.datasets import cifar10\n",
        "from tensorflow.keras.utils import to_categorical\n",
        "from tensorflow.keras import Sequential\n",
        "from tensorflow.keras.models import Model\n",
        "from tensorflow.keras.layers import Conv2D, MaxPooling2D, Flatten, Dense, Dropout\n",
        "from sklearn.model_selection import train_test_split\n",
        "from sklearn.metrics import confusion_matrix\n",
        "import pandas as pd\n",
        "from sklearn.preprocessing import LabelEncoder\n",
        "import zipfile"
      ]
    },
    {
      "cell_type": "code",
      "execution_count": null,
      "metadata": {
        "id": "QFz-6hJxU3Hc"
      },
      "outputs": [],
      "source": [
        "extract_file = zipfile.ZipFile('/content/flower_photos.zip', 'r')\n",
        "extract_file.extractall('/content')\n",
        "extract_file.close()"
      ]
    },
    {
      "cell_type": "code",
      "execution_count": null,
      "metadata": {
        "id": "mzCrVsUGVWZy"
      },
      "outputs": [],
      "source": [
        "class_names = ['daisy', 'dandelion', 'roses', 'sunflowers', 'tulips']"
      ]
    },
    {
      "cell_type": "code",
      "execution_count": null,
      "metadata": {
        "id": "BUY2k08MW9mC"
      },
      "outputs": [],
      "source": [
        "data_dir = '/content/flower_photos'\n",
        "filepaths = []\n",
        "labels = []\n",
        "\n",
        "folders = os.listdir(data_dir)\n",
        "for fold in folders:\n",
        "    foldpath = os.path.join(data_dir, fold)\n",
        "    filelist = os.listdir(foldpath)\n",
        "    for file in filelist:\n",
        "        fpath = os.path.join(foldpath, file)\n",
        "\n",
        "        filepaths.append(fpath)\n",
        "        labels.append(fold)\n",
        "\n",
        "Fseries = pd.Series(filepaths, name='filepaths')\n",
        "Lseries = pd.Series(labels, name='labels')\n",
        "df = pd.concat([Fseries, Lseries], axis=1)"
      ]
    },
    {
      "cell_type": "code",
      "execution_count": null,
      "metadata": {
        "id": "Xq5xqIfhXqA0"
      },
      "outputs": [],
      "source": [
        "df['labels'].value_counts()"
      ]
    },
    {
      "cell_type": "code",
      "execution_count": null,
      "metadata": {
        "id": "nEYgDgNhXu1H"
      },
      "outputs": [],
      "source": [
        "df['labels'].shape"
      ]
    },
    {
      "cell_type": "code",
      "execution_count": null,
      "metadata": {
        "id": "dN6Ri9svYPYd"
      },
      "outputs": [],
      "source": [
        "X_train_temp, X_test, y_train_temp, y_test = train_test_split(df, df['labels'], test_size=0.2, random_state=42)\n",
        "X_train, X_val, y_train, y_val = train_test_split(X_train_temp, y_train_temp, test_size=0.2, random_state=42)"
      ]
    },
    {
      "cell_type": "code",
      "source": [
        "X_train_resized = np.array([cv2.resize(cv2.imread(img), (IMG_SIZE, IMG_SIZE)) for img in X_train['filepaths']])\n",
        "X_val_resized = np.array([cv2.resize(cv2.imread(img), (IMG_SIZE, IMG_SIZE)) for img in X_val['filepaths']])\n",
        "X_test_resized = np.array([cv2.resize(cv2.imread(img), (IMG_SIZE, IMG_SIZE)) for img in X_test['filepaths']])"
      ],
      "metadata": {
        "id": "j8Iptc4ajBi-"
      },
      "execution_count": null,
      "outputs": []
    },
    {
      "cell_type": "code",
      "source": [
        "X_train = X_train_resized / 255.0\n",
        "X_val = X_val_resized / 255.0\n",
        "X_test = X_test_resized / 255.0"
      ],
      "metadata": {
        "id": "CnKSefJTjFFp"
      },
      "execution_count": null,
      "outputs": []
    },
    {
      "cell_type": "code",
      "execution_count": null,
      "metadata": {
        "id": "RHsFClMBfe0U"
      },
      "outputs": [],
      "source": [
        "lbc = LabelEncoder()\n",
        "y_train_encoded = lbc.fit_transform(y_train)\n",
        "y_val_encoded = lbc.transform(y_val)\n",
        "y_test_encoded = lbc.transform(y_test)"
      ]
    },
    {
      "cell_type": "code",
      "execution_count": null,
      "metadata": {
        "id": "hNjsQn9Df20q"
      },
      "outputs": [],
      "source": [
        "y_train_ohc = to_categorical(y_train_encoded)\n",
        "y_val_ohc = to_categorical(y_val_encoded)\n",
        "y_test_ohc = to_categorical(y_test_encoded)"
      ]
    },
    {
      "cell_type": "code",
      "execution_count": null,
      "metadata": {
        "id": "jTPPppDQdYPX"
      },
      "outputs": [],
      "source": [
        "model = Sequential()\n",
        "model.add(Conv2D(32, (3, 3), activation = 'relu', input_shape = (150, 150, 3)))\n",
        "model.add(MaxPooling2D(pool_size = (2, 2)))\n",
        "model.add(Conv2D(64, (3, 3), activation = 'relu'))\n",
        "model.add(MaxPooling2D(pool_size = (2, 2)))\n",
        "model.add(Dropout(0.2))\n",
        "model.add(Conv2D(128, (3, 3), activation = 'relu'))\n",
        "model.add(MaxPooling2D(pool_size = (2, 2)))\n",
        "model.add(Flatten())\n",
        "\n",
        "model.add(Dense(units = 128, activation = 'relu'))\n",
        "model.add(Dense(units = len(class_names), activation = 'softmax'))"
      ]
    },
    {
      "cell_type": "code",
      "execution_count": null,
      "metadata": {
        "id": "UEDQIV8leUTA"
      },
      "outputs": [],
      "source": [
        "model.summary()"
      ]
    },
    {
      "cell_type": "code",
      "execution_count": null,
      "metadata": {
        "id": "vJDUoEFheaAY"
      },
      "outputs": [],
      "source": [
        "model.compile(optimizer = 'adam', loss = 'categorical_crossentropy', metrics = ['accuracy'])"
      ]
    },
    {
      "cell_type": "code",
      "execution_count": null,
      "metadata": {
        "id": "o7sk3mzqecb4"
      },
      "outputs": [],
      "source": [
        "history = model.fit(\n",
        "    X_train,\n",
        "    y_train_ohc,\n",
        "    validation_data=(X_val, y_val_ohc),\n",
        "    epochs=30,\n",
        "    batch_size=32\n",
        ")"
      ]
    },
    {
      "cell_type": "code",
      "execution_count": null,
      "metadata": {
        "id": "PmFViBR4f8uU"
      },
      "outputs": [],
      "source": [
        "test_loss, test_acc = model.evaluate(X_test, y_test_ohc)\n",
        "print(f'Test accuracy: {test_acc:.2f}')"
      ]
    }
  ],
  "metadata": {
    "colab": {
      "provenance": [],
      "gpuType": "T4"
    },
    "kernelspec": {
      "display_name": "Python 3",
      "name": "python3"
    },
    "language_info": {
      "name": "python"
    },
    "accelerator": "GPU"
  },
  "nbformat": 4,
  "nbformat_minor": 0
}